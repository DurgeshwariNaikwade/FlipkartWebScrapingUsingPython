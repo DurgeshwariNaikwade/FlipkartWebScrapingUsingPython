{
 "cells": [
  {
   "cell_type": "markdown",
   "id": "9a75d846",
   "metadata": {},
   "source": [
    "# Web Scraping and Vizualization\n",
    "### Data Scraping is a technique to retrieve large amounts of data from the internet."
   ]
  },
  {
   "cell_type": "markdown",
   "id": "bcc23567",
   "metadata": {},
   "source": [
    "### Libraries used for Web Scraping-\n",
    "#### BeautifulSoup: \n",
    "Beautiful Soup is a Python package for parsing HTML and XML documents. It creates parse trees that are helpful to extract the data easily.\n",
    "#### Pandas: \n",
    "Pandas is a library used for data manipulation and analysis. It is used to extract the data and store it in the desired format.\n",
    "#### Use matplotlib and seaborn for data visualization"
   ]
  },
  {
   "cell_type": "code",
   "execution_count": 1,
   "id": "1dacbff3",
   "metadata": {},
   "outputs": [],
   "source": [
    "import pandas as pd\n",
    "import requests\n",
    "from bs4 import BeautifulSoup\n",
    "import seaborn as sns\n",
    "import numpy as np\n",
    "import matplotlib.pyplot as plt"
   ]
  },
  {
   "cell_type": "code",
   "execution_count": 2,
   "id": "c9bb866e",
   "metadata": {},
   "outputs": [],
   "source": [
    "#extracting the laptop data from flipkart(India)\n",
    "def extract(page):\n",
    "    url = f'https://www.flipkart.com/search?q=laptops&otracker=search&otracker1=search&marketplace=FLIPKART&as-show=on&as=off&as-pos=1&as-type=HISTORY&page={page}'\n",
    "    #Adding the {page} so we can get 'n' number of pages for that perticular search i.e all n pages for laptop on this site\n",
    "    #headers = {'User-Agent' :'Mozilla/5.0 (Macintosh; Intel Mac OS X 10_15_7) AppleWebKit/537.36 (KHTML, like Gecko) Chrome/114.0.0.0 Safari/537.36'}\n",
    "    page = requests.get(url)\n",
    "    soup = BeautifulSoup(page.content, 'html.parser')\n",
    "    return soup"
   ]
  },
  {
   "cell_type": "markdown",
   "id": "ea9aaf19",
   "metadata": {},
   "source": [
    "### Error while extracting the data\n",
    "#### The AttributeError: \n",
    "'NoneType' object has no attribute 'text' error occurs when you try to access the text attribute of a None object. This means that the find() method did not find a matching element in the HTML and returned None.\n",
    "\n",
    "To handle this error, you can add a conditional check to ensure that the element is found before accessing its text attribute. Here's an updated version of the code that includes the check:"
   ]
  },
  {
   "cell_type": "code",
   "execution_count": 3,
   "id": "20313ab1",
   "metadata": {},
   "outputs": [],
   "source": [
    "import re\n",
    "#This code gets the the values that we want to fetch from the website\n",
    "def transform(soup):\n",
    "    divs = soup.find_all('a', class_ = '_1fQZEK')\n",
    "\n",
    "    for item in divs:\n",
    "        title = item.find('div', class_='_4rR01T').text.strip()\n",
    "        price = item.find('div', class_='_30jeq3 _1_WHN1').text.replace('₹', '').strip()\n",
    "        rating_div = item.find('div', class_='_3LWZlK')\n",
    "        if rating_div is not None:\n",
    "            rating = rating_div.text.strip()\n",
    "            rating = re.sub(r'<.*?>', '', rating)  # Remove any HTML tags within the rating\n",
    "        else:\n",
    "            rating = None\n",
    "    #print(title, price, rating)\n",
    "\n",
    "    \n",
    "        laptop_info = {\n",
    "            'title': title,\n",
    "            'price': price,\n",
    "            'rating':rating\n",
    "        }\n",
    "        laptop_list.append(laptop_info)\n",
    "    return"
   ]
  },
  {
   "cell_type": "code",
   "execution_count": 5,
   "id": "3ea1591b",
   "metadata": {},
   "outputs": [
    {
     "name": "stdout",
     "output_type": "stream",
     "text": [
      "                                               title   price rating\n",
      "0  HP Chromebook (2023) Intel Core i5 11th Gen - ...  40,990   None\n",
      "1  HP Pavilion Intel Core i5 12th Gen - (16 GB/51...  65,990    4.3\n",
      "2  HP 15s (2023) Ryzen 3 Dual Core 3250U - (8 GB/...  29,990    4.1\n",
      "3  ASUS TUF Gaming A15 Ryzen 5 Hexa Core AMD R5-4...  52,990    4.3\n",
      "4  realme Book (Slim) Core i3 11th Gen - (8 GB/25...  31,999   None\n"
     ]
    }
   ],
   "source": [
    "laptop_list = []\n",
    "\n",
    "#fetching first 10 pages\n",
    "for i in range(10):\n",
    "    c = extract(i)\n",
    "    transform(c)\n",
    "\n",
    "\n",
    "df = pd.DataFrame(laptop_list)\n",
    "print(df.head())\n",
    "df.to_csv('laptop_list.csv', index = False, encoding = 'utf-8')"
   ]
  },
  {
   "cell_type": "markdown",
   "id": "e9f0e747",
   "metadata": {},
   "source": [
    "# Explorartory Data Analysis(EDA) & Data Visualization"
   ]
  },
  {
   "cell_type": "code",
   "execution_count": 89,
   "id": "94065ff7",
   "metadata": {},
   "outputs": [],
   "source": [
    "#importing the csv file\n",
    "laptop_df = pd.read_csv('./laptop_list.csv', sep = None, thousands=',',engine='python')#loading csv removing , from price"
   ]
  },
  {
   "cell_type": "code",
   "execution_count": 90,
   "id": "937d0ed2",
   "metadata": {},
   "outputs": [
    {
     "data": {
      "text/html": [
       "<div>\n",
       "<style scoped>\n",
       "    .dataframe tbody tr th:only-of-type {\n",
       "        vertical-align: middle;\n",
       "    }\n",
       "\n",
       "    .dataframe tbody tr th {\n",
       "        vertical-align: top;\n",
       "    }\n",
       "\n",
       "    .dataframe thead th {\n",
       "        text-align: right;\n",
       "    }\n",
       "</style>\n",
       "<table border=\"1\" class=\"dataframe\">\n",
       "  <thead>\n",
       "    <tr style=\"text-align: right;\">\n",
       "      <th></th>\n",
       "      <th>title</th>\n",
       "      <th>price</th>\n",
       "      <th>rating</th>\n",
       "    </tr>\n",
       "  </thead>\n",
       "  <tbody>\n",
       "    <tr>\n",
       "      <th>0</th>\n",
       "      <td>HP Chromebook (2023) Intel Core i5 11th Gen - ...</td>\n",
       "      <td>40990</td>\n",
       "      <td>NaN</td>\n",
       "    </tr>\n",
       "    <tr>\n",
       "      <th>1</th>\n",
       "      <td>HP Pavilion Intel Core i5 12th Gen - (16 GB/51...</td>\n",
       "      <td>65990</td>\n",
       "      <td>4.3</td>\n",
       "    </tr>\n",
       "    <tr>\n",
       "      <th>2</th>\n",
       "      <td>HP 15s (2023) Ryzen 3 Dual Core 3250U - (8 GB/...</td>\n",
       "      <td>29990</td>\n",
       "      <td>4.1</td>\n",
       "    </tr>\n",
       "    <tr>\n",
       "      <th>3</th>\n",
       "      <td>ASUS TUF Gaming A15 Ryzen 5 Hexa Core AMD R5-4...</td>\n",
       "      <td>52990</td>\n",
       "      <td>4.3</td>\n",
       "    </tr>\n",
       "    <tr>\n",
       "      <th>4</th>\n",
       "      <td>realme Book (Slim) Core i3 11th Gen - (8 GB/25...</td>\n",
       "      <td>31999</td>\n",
       "      <td>NaN</td>\n",
       "    </tr>\n",
       "  </tbody>\n",
       "</table>\n",
       "</div>"
      ],
      "text/plain": [
       "                                               title  price  rating\n",
       "0  HP Chromebook (2023) Intel Core i5 11th Gen - ...  40990     NaN\n",
       "1  HP Pavilion Intel Core i5 12th Gen - (16 GB/51...  65990     4.3\n",
       "2  HP 15s (2023) Ryzen 3 Dual Core 3250U - (8 GB/...  29990     4.1\n",
       "3  ASUS TUF Gaming A15 Ryzen 5 Hexa Core AMD R5-4...  52990     4.3\n",
       "4  realme Book (Slim) Core i3 11th Gen - (8 GB/25...  31999     NaN"
      ]
     },
     "execution_count": 90,
     "metadata": {},
     "output_type": "execute_result"
    }
   ],
   "source": [
    "laptop_df.head()"
   ]
  },
  {
   "cell_type": "code",
   "execution_count": 91,
   "id": "904059fa",
   "metadata": {},
   "outputs": [
    {
     "data": {
      "text/plain": [
       "(240, 3)"
      ]
     },
     "execution_count": 91,
     "metadata": {},
     "output_type": "execute_result"
    }
   ],
   "source": [
    "laptop_df.shape"
   ]
  },
  {
   "cell_type": "code",
   "execution_count": 92,
   "id": "abd17958",
   "metadata": {},
   "outputs": [
    {
     "data": {
      "text/plain": [
       "title      object\n",
       "price       int64\n",
       "rating    float64\n",
       "dtype: object"
      ]
     },
     "execution_count": 92,
     "metadata": {},
     "output_type": "execute_result"
    }
   ],
   "source": [
    "laptop_df.dtypes"
   ]
  },
  {
   "cell_type": "code",
   "execution_count": 93,
   "id": "baffe2a3",
   "metadata": {},
   "outputs": [
    {
     "name": "stderr",
     "output_type": "stream",
     "text": [
      "/var/folders/vc/sqz86wd54r3bw7q55_4mczhh0000gn/T/ipykernel_10065/3737907350.py:2: FutureWarning: In a future version of pandas all arguments of StringMethods.split except for the argument 'pat' will be keyword-only.\n",
      "  laptop_df['model'],laptop_df['spec']=laptop_df['title'].str.split(' - ',1).str\n",
      "/var/folders/vc/sqz86wd54r3bw7q55_4mczhh0000gn/T/ipykernel_10065/3737907350.py:2: FutureWarning: Columnar iteration over characters will be deprecated in future releases.\n",
      "  laptop_df['model'],laptop_df['spec']=laptop_df['title'].str.split(' - ',1).str\n"
     ]
    },
    {
     "data": {
      "text/html": [
       "<div>\n",
       "<style scoped>\n",
       "    .dataframe tbody tr th:only-of-type {\n",
       "        vertical-align: middle;\n",
       "    }\n",
       "\n",
       "    .dataframe tbody tr th {\n",
       "        vertical-align: top;\n",
       "    }\n",
       "\n",
       "    .dataframe thead th {\n",
       "        text-align: right;\n",
       "    }\n",
       "</style>\n",
       "<table border=\"1\" class=\"dataframe\">\n",
       "  <thead>\n",
       "    <tr style=\"text-align: right;\">\n",
       "      <th></th>\n",
       "      <th>price</th>\n",
       "      <th>rating</th>\n",
       "      <th>model</th>\n",
       "      <th>spec</th>\n",
       "    </tr>\n",
       "  </thead>\n",
       "  <tbody>\n",
       "    <tr>\n",
       "      <th>0</th>\n",
       "      <td>40990</td>\n",
       "      <td>NaN</td>\n",
       "      <td>HP Chromebook (2023) Intel Core i5 11th Gen</td>\n",
       "      <td>(8 GB/256 GB SSD/Chrome OS) 14c-cc0010TU Chrom...</td>\n",
       "    </tr>\n",
       "    <tr>\n",
       "      <th>1</th>\n",
       "      <td>65990</td>\n",
       "      <td>4.3</td>\n",
       "      <td>HP Pavilion Intel Core i5 12th Gen</td>\n",
       "      <td>(16 GB/512 GB SSD/Windows 11 Home) 14-dv2014TU...</td>\n",
       "    </tr>\n",
       "    <tr>\n",
       "      <th>2</th>\n",
       "      <td>29990</td>\n",
       "      <td>4.1</td>\n",
       "      <td>HP 15s (2023) Ryzen 3 Dual Core 3250U</td>\n",
       "      <td>(8 GB/512 GB SSD/Windows 11 Home) 15s- eq1580A...</td>\n",
       "    </tr>\n",
       "    <tr>\n",
       "      <th>3</th>\n",
       "      <td>52990</td>\n",
       "      <td>4.3</td>\n",
       "      <td>ASUS TUF Gaming A15 Ryzen 5 Hexa Core AMD R5-4...</td>\n",
       "      <td>(8 GB/1 TB SSD/Windows 11 Home/4 GB Graphics/N...</td>\n",
       "    </tr>\n",
       "    <tr>\n",
       "      <th>4</th>\n",
       "      <td>31999</td>\n",
       "      <td>NaN</td>\n",
       "      <td>realme Book (Slim) Core i3 11th Gen</td>\n",
       "      <td>(8 GB/256 GB SSD/Windows 10 Home) RMNB1001 Thi...</td>\n",
       "    </tr>\n",
       "  </tbody>\n",
       "</table>\n",
       "</div>"
      ],
      "text/plain": [
       "   price  rating                                              model  \\\n",
       "0  40990     NaN        HP Chromebook (2023) Intel Core i5 11th Gen   \n",
       "1  65990     4.3                 HP Pavilion Intel Core i5 12th Gen   \n",
       "2  29990     4.1              HP 15s (2023) Ryzen 3 Dual Core 3250U   \n",
       "3  52990     4.3  ASUS TUF Gaming A15 Ryzen 5 Hexa Core AMD R5-4...   \n",
       "4  31999     NaN                realme Book (Slim) Core i3 11th Gen   \n",
       "\n",
       "                                                spec  \n",
       "0  (8 GB/256 GB SSD/Chrome OS) 14c-cc0010TU Chrom...  \n",
       "1  (16 GB/512 GB SSD/Windows 11 Home) 14-dv2014TU...  \n",
       "2  (8 GB/512 GB SSD/Windows 11 Home) 15s- eq1580A...  \n",
       "3  (8 GB/1 TB SSD/Windows 11 Home/4 GB Graphics/N...  \n",
       "4  (8 GB/256 GB SSD/Windows 10 Home) RMNB1001 Thi...  "
      ]
     },
     "execution_count": 93,
     "metadata": {},
     "output_type": "execute_result"
    }
   ],
   "source": [
    "#split the title(model-specifications) seperated by '-' \n",
    "laptop_df['model'],laptop_df['spec']=laptop_df['title'].str.split(' - ',1).str\n",
    "del laptop_df['title']\n",
    "laptop_df.head()"
   ]
  },
  {
   "cell_type": "code",
   "execution_count": 94,
   "id": "0b5640ab",
   "metadata": {},
   "outputs": [
    {
     "name": "stderr",
     "output_type": "stream",
     "text": [
      "/var/folders/vc/sqz86wd54r3bw7q55_4mczhh0000gn/T/ipykernel_10065/61831687.py:1: FutureWarning: The default value of regex will change from True to False in a future version. In addition, single character regular expressions will *not* be treated as literal strings when regex=True.\n",
      "  laptop_df['spec'] = laptop_df['spec'].str.replace('(', '')\n",
      "/var/folders/vc/sqz86wd54r3bw7q55_4mczhh0000gn/T/ipykernel_10065/61831687.py:2: FutureWarning: The default value of regex will change from True to False in a future version. In addition, single character regular expressions will *not* be treated as literal strings when regex=True.\n",
      "  laptop_df['spec'] = laptop_df['spec'].str.replace(')', '/')\n"
     ]
    },
    {
     "data": {
      "text/html": [
       "<div>\n",
       "<style scoped>\n",
       "    .dataframe tbody tr th:only-of-type {\n",
       "        vertical-align: middle;\n",
       "    }\n",
       "\n",
       "    .dataframe tbody tr th {\n",
       "        vertical-align: top;\n",
       "    }\n",
       "\n",
       "    .dataframe thead th {\n",
       "        text-align: right;\n",
       "    }\n",
       "</style>\n",
       "<table border=\"1\" class=\"dataframe\">\n",
       "  <thead>\n",
       "    <tr style=\"text-align: right;\">\n",
       "      <th></th>\n",
       "      <th>price</th>\n",
       "      <th>rating</th>\n",
       "      <th>model</th>\n",
       "      <th>spec</th>\n",
       "    </tr>\n",
       "  </thead>\n",
       "  <tbody>\n",
       "    <tr>\n",
       "      <th>0</th>\n",
       "      <td>40990</td>\n",
       "      <td>NaN</td>\n",
       "      <td>HP Chromebook (2023) Intel Core i5 11th Gen</td>\n",
       "      <td>8 GB/256 GB SSD/Chrome OS/ 14c-cc0010TU Chrome...</td>\n",
       "    </tr>\n",
       "    <tr>\n",
       "      <th>1</th>\n",
       "      <td>65990</td>\n",
       "      <td>4.3</td>\n",
       "      <td>HP Pavilion Intel Core i5 12th Gen</td>\n",
       "      <td>16 GB/512 GB SSD/Windows 11 Home/ 14-dv2014TU ...</td>\n",
       "    </tr>\n",
       "    <tr>\n",
       "      <th>2</th>\n",
       "      <td>29990</td>\n",
       "      <td>4.1</td>\n",
       "      <td>HP 15s (2023) Ryzen 3 Dual Core 3250U</td>\n",
       "      <td>8 GB/512 GB SSD/Windows 11 Home/ 15s- eq1580AU...</td>\n",
       "    </tr>\n",
       "    <tr>\n",
       "      <th>3</th>\n",
       "      <td>52990</td>\n",
       "      <td>4.3</td>\n",
       "      <td>ASUS TUF Gaming A15 Ryzen 5 Hexa Core AMD R5-4...</td>\n",
       "      <td>8 GB/1 TB SSD/Windows 11 Home/4 GB Graphics/NV...</td>\n",
       "    </tr>\n",
       "    <tr>\n",
       "      <th>4</th>\n",
       "      <td>31999</td>\n",
       "      <td>NaN</td>\n",
       "      <td>realme Book (Slim) Core i3 11th Gen</td>\n",
       "      <td>8 GB/256 GB SSD/Windows 10 Home/ RMNB1001 Thin...</td>\n",
       "    </tr>\n",
       "  </tbody>\n",
       "</table>\n",
       "</div>"
      ],
      "text/plain": [
       "   price  rating                                              model  \\\n",
       "0  40990     NaN        HP Chromebook (2023) Intel Core i5 11th Gen   \n",
       "1  65990     4.3                 HP Pavilion Intel Core i5 12th Gen   \n",
       "2  29990     4.1              HP 15s (2023) Ryzen 3 Dual Core 3250U   \n",
       "3  52990     4.3  ASUS TUF Gaming A15 Ryzen 5 Hexa Core AMD R5-4...   \n",
       "4  31999     NaN                realme Book (Slim) Core i3 11th Gen   \n",
       "\n",
       "                                                spec  \n",
       "0  8 GB/256 GB SSD/Chrome OS/ 14c-cc0010TU Chrome...  \n",
       "1  16 GB/512 GB SSD/Windows 11 Home/ 14-dv2014TU ...  \n",
       "2  8 GB/512 GB SSD/Windows 11 Home/ 15s- eq1580AU...  \n",
       "3  8 GB/1 TB SSD/Windows 11 Home/4 GB Graphics/NV...  \n",
       "4  8 GB/256 GB SSD/Windows 10 Home/ RMNB1001 Thin...  "
      ]
     },
     "execution_count": 94,
     "metadata": {},
     "output_type": "execute_result"
    }
   ],
   "source": [
    "laptop_df['spec'] = laptop_df['spec'].str.replace('(', '')\n",
    "laptop_df['spec'] = laptop_df['spec'].str.replace(')', '/')\n",
    "laptop_df.head()"
   ]
  },
  {
   "cell_type": "code",
   "execution_count": 95,
   "id": "054f9ee1",
   "metadata": {},
   "outputs": [
    {
     "name": "stderr",
     "output_type": "stream",
     "text": [
      "/var/folders/vc/sqz86wd54r3bw7q55_4mczhh0000gn/T/ipykernel_10065/2894110531.py:2: FutureWarning: In a future version of pandas all arguments of StringMethods.split except for the argument 'pat' will be keyword-only.\n",
      "  laptop_df['RAM'],laptop_df['Hard disk']=laptop_df['spec'].str.split('/',1).str\n",
      "/var/folders/vc/sqz86wd54r3bw7q55_4mczhh0000gn/T/ipykernel_10065/2894110531.py:2: FutureWarning: Columnar iteration over characters will be deprecated in future releases.\n",
      "  laptop_df['RAM'],laptop_df['Hard disk']=laptop_df['spec'].str.split('/',1).str\n"
     ]
    },
    {
     "data": {
      "text/html": [
       "<div>\n",
       "<style scoped>\n",
       "    .dataframe tbody tr th:only-of-type {\n",
       "        vertical-align: middle;\n",
       "    }\n",
       "\n",
       "    .dataframe tbody tr th {\n",
       "        vertical-align: top;\n",
       "    }\n",
       "\n",
       "    .dataframe thead th {\n",
       "        text-align: right;\n",
       "    }\n",
       "</style>\n",
       "<table border=\"1\" class=\"dataframe\">\n",
       "  <thead>\n",
       "    <tr style=\"text-align: right;\">\n",
       "      <th></th>\n",
       "      <th>price</th>\n",
       "      <th>rating</th>\n",
       "      <th>model</th>\n",
       "      <th>RAM</th>\n",
       "      <th>Hard disk</th>\n",
       "    </tr>\n",
       "  </thead>\n",
       "  <tbody>\n",
       "    <tr>\n",
       "      <th>0</th>\n",
       "      <td>40990</td>\n",
       "      <td>NaN</td>\n",
       "      <td>HP Chromebook (2023) Intel Core i5 11th Gen</td>\n",
       "      <td>8 GB</td>\n",
       "      <td>256 GB SSD/Chrome OS/ 14c-cc0010TU Chromebook</td>\n",
       "    </tr>\n",
       "    <tr>\n",
       "      <th>1</th>\n",
       "      <td>65990</td>\n",
       "      <td>4.3</td>\n",
       "      <td>HP Pavilion Intel Core i5 12th Gen</td>\n",
       "      <td>16 GB</td>\n",
       "      <td>512 GB SSD/Windows 11 Home/ 14-dv2014TU Thin a...</td>\n",
       "    </tr>\n",
       "    <tr>\n",
       "      <th>2</th>\n",
       "      <td>29990</td>\n",
       "      <td>4.1</td>\n",
       "      <td>HP 15s (2023) Ryzen 3 Dual Core 3250U</td>\n",
       "      <td>8 GB</td>\n",
       "      <td>512 GB SSD/Windows 11 Home/ 15s- eq1580AU Thin...</td>\n",
       "    </tr>\n",
       "    <tr>\n",
       "      <th>3</th>\n",
       "      <td>52990</td>\n",
       "      <td>4.3</td>\n",
       "      <td>ASUS TUF Gaming A15 Ryzen 5 Hexa Core AMD R5-4...</td>\n",
       "      <td>8 GB</td>\n",
       "      <td>1 TB SSD/Windows 11 Home/4 GB Graphics/NVID...</td>\n",
       "    </tr>\n",
       "    <tr>\n",
       "      <th>4</th>\n",
       "      <td>31999</td>\n",
       "      <td>NaN</td>\n",
       "      <td>realme Book (Slim) Core i3 11th Gen</td>\n",
       "      <td>8 GB</td>\n",
       "      <td>256 GB SSD/Windows 10 Home/ RMNB1001 Thin and ...</td>\n",
       "    </tr>\n",
       "  </tbody>\n",
       "</table>\n",
       "</div>"
      ],
      "text/plain": [
       "   price  rating                                              model    RAM  \\\n",
       "0  40990     NaN        HP Chromebook (2023) Intel Core i5 11th Gen   8 GB   \n",
       "1  65990     4.3                 HP Pavilion Intel Core i5 12th Gen  16 GB   \n",
       "2  29990     4.1              HP 15s (2023) Ryzen 3 Dual Core 3250U   8 GB   \n",
       "3  52990     4.3  ASUS TUF Gaming A15 Ryzen 5 Hexa Core AMD R5-4...   8 GB   \n",
       "4  31999     NaN                realme Book (Slim) Core i3 11th Gen   8 GB   \n",
       "\n",
       "                                           Hard disk  \n",
       "0      256 GB SSD/Chrome OS/ 14c-cc0010TU Chromebook  \n",
       "1  512 GB SSD/Windows 11 Home/ 14-dv2014TU Thin a...  \n",
       "2  512 GB SSD/Windows 11 Home/ 15s- eq1580AU Thin...  \n",
       "3     1 TB SSD/Windows 11 Home/4 GB Graphics/NVID...  \n",
       "4  256 GB SSD/Windows 10 Home/ RMNB1001 Thin and ...  "
      ]
     },
     "execution_count": 95,
     "metadata": {},
     "output_type": "execute_result"
    }
   ],
   "source": [
    "# Getting some features from the spec like RAM, Storage, OS and graphic card\n",
    "laptop_df['RAM'],laptop_df['Hard disk']=laptop_df['spec'].str.split('/',1).str\n",
    "del laptop_df['spec']\n",
    "laptop_df.head()"
   ]
  },
  {
   "cell_type": "code",
   "execution_count": 96,
   "id": "560bc774",
   "metadata": {},
   "outputs": [
    {
     "name": "stderr",
     "output_type": "stream",
     "text": [
      "/var/folders/vc/sqz86wd54r3bw7q55_4mczhh0000gn/T/ipykernel_10065/1355666997.py:1: FutureWarning: In a future version of pandas all arguments of StringMethods.split except for the argument 'pat' will be keyword-only.\n",
      "  laptop_df['Storage'],laptop_df['OS']=laptop_df['Hard disk'].str.split('/',1).str\n",
      "/var/folders/vc/sqz86wd54r3bw7q55_4mczhh0000gn/T/ipykernel_10065/1355666997.py:1: FutureWarning: Columnar iteration over characters will be deprecated in future releases.\n",
      "  laptop_df['Storage'],laptop_df['OS']=laptop_df['Hard disk'].str.split('/',1).str\n"
     ]
    },
    {
     "data": {
      "text/html": [
       "<div>\n",
       "<style scoped>\n",
       "    .dataframe tbody tr th:only-of-type {\n",
       "        vertical-align: middle;\n",
       "    }\n",
       "\n",
       "    .dataframe tbody tr th {\n",
       "        vertical-align: top;\n",
       "    }\n",
       "\n",
       "    .dataframe thead th {\n",
       "        text-align: right;\n",
       "    }\n",
       "</style>\n",
       "<table border=\"1\" class=\"dataframe\">\n",
       "  <thead>\n",
       "    <tr style=\"text-align: right;\">\n",
       "      <th></th>\n",
       "      <th>price</th>\n",
       "      <th>rating</th>\n",
       "      <th>model</th>\n",
       "      <th>RAM</th>\n",
       "      <th>Storage</th>\n",
       "      <th>OS</th>\n",
       "    </tr>\n",
       "  </thead>\n",
       "  <tbody>\n",
       "    <tr>\n",
       "      <th>0</th>\n",
       "      <td>40990</td>\n",
       "      <td>NaN</td>\n",
       "      <td>HP Chromebook (2023) Intel Core i5 11th Gen</td>\n",
       "      <td>8 GB</td>\n",
       "      <td>256 GB SSD</td>\n",
       "      <td>Chrome OS/ 14c-cc0010TU Chromebook</td>\n",
       "    </tr>\n",
       "    <tr>\n",
       "      <th>1</th>\n",
       "      <td>65990</td>\n",
       "      <td>4.3</td>\n",
       "      <td>HP Pavilion Intel Core i5 12th Gen</td>\n",
       "      <td>16 GB</td>\n",
       "      <td>512 GB SSD</td>\n",
       "      <td>Windows 11 Home/ 14-dv2014TU Thin and Light La...</td>\n",
       "    </tr>\n",
       "    <tr>\n",
       "      <th>2</th>\n",
       "      <td>29990</td>\n",
       "      <td>4.1</td>\n",
       "      <td>HP 15s (2023) Ryzen 3 Dual Core 3250U</td>\n",
       "      <td>8 GB</td>\n",
       "      <td>512 GB SSD</td>\n",
       "      <td>Windows 11 Home/ 15s- eq1580AU Thin and Light...</td>\n",
       "    </tr>\n",
       "    <tr>\n",
       "      <th>3</th>\n",
       "      <td>52990</td>\n",
       "      <td>4.3</td>\n",
       "      <td>ASUS TUF Gaming A15 Ryzen 5 Hexa Core AMD R5-4...</td>\n",
       "      <td>8 GB</td>\n",
       "      <td>1 TB SSD</td>\n",
       "      <td>Windows 11 Home/4 GB Graphics/NVID...</td>\n",
       "    </tr>\n",
       "    <tr>\n",
       "      <th>4</th>\n",
       "      <td>31999</td>\n",
       "      <td>NaN</td>\n",
       "      <td>realme Book (Slim) Core i3 11th Gen</td>\n",
       "      <td>8 GB</td>\n",
       "      <td>256 GB SSD</td>\n",
       "      <td>Windows 10 Home/ RMNB1001 Thin and Light Laptop</td>\n",
       "    </tr>\n",
       "  </tbody>\n",
       "</table>\n",
       "</div>"
      ],
      "text/plain": [
       "   price  rating                                              model    RAM  \\\n",
       "0  40990     NaN        HP Chromebook (2023) Intel Core i5 11th Gen   8 GB   \n",
       "1  65990     4.3                 HP Pavilion Intel Core i5 12th Gen  16 GB   \n",
       "2  29990     4.1              HP 15s (2023) Ryzen 3 Dual Core 3250U   8 GB   \n",
       "3  52990     4.3  ASUS TUF Gaming A15 Ryzen 5 Hexa Core AMD R5-4...   8 GB   \n",
       "4  31999     NaN                realme Book (Slim) Core i3 11th Gen   8 GB   \n",
       "\n",
       "      Storage                                                 OS  \n",
       "0  256 GB SSD                 Chrome OS/ 14c-cc0010TU Chromebook  \n",
       "1  512 GB SSD  Windows 11 Home/ 14-dv2014TU Thin and Light La...  \n",
       "2  512 GB SSD   Windows 11 Home/ 15s- eq1580AU Thin and Light...  \n",
       "3    1 TB SSD              Windows 11 Home/4 GB Graphics/NVID...  \n",
       "4  256 GB SSD    Windows 10 Home/ RMNB1001 Thin and Light Laptop  "
      ]
     },
     "execution_count": 96,
     "metadata": {},
     "output_type": "execute_result"
    }
   ],
   "source": [
    "laptop_df['Storage'],laptop_df['OS']=laptop_df['Hard disk'].str.split('/',1).str\n",
    "del laptop_df['Hard disk']\n",
    "laptop_df.head()"
   ]
  },
  {
   "cell_type": "code",
   "execution_count": 97,
   "id": "b5f5bd1a",
   "metadata": {},
   "outputs": [
    {
     "name": "stderr",
     "output_type": "stream",
     "text": [
      "/var/folders/vc/sqz86wd54r3bw7q55_4mczhh0000gn/T/ipykernel_10065/1003951466.py:1: FutureWarning: In a future version of pandas all arguments of StringMethods.split except for the argument 'pat' will be keyword-only.\n",
      "  laptop_df['Operating System'],laptop_df['extra']=laptop_df['OS'].str.split('/',1).str\n",
      "/var/folders/vc/sqz86wd54r3bw7q55_4mczhh0000gn/T/ipykernel_10065/1003951466.py:1: FutureWarning: Columnar iteration over characters will be deprecated in future releases.\n",
      "  laptop_df['Operating System'],laptop_df['extra']=laptop_df['OS'].str.split('/',1).str\n"
     ]
    },
    {
     "data": {
      "text/html": [
       "<div>\n",
       "<style scoped>\n",
       "    .dataframe tbody tr th:only-of-type {\n",
       "        vertical-align: middle;\n",
       "    }\n",
       "\n",
       "    .dataframe tbody tr th {\n",
       "        vertical-align: top;\n",
       "    }\n",
       "\n",
       "    .dataframe thead th {\n",
       "        text-align: right;\n",
       "    }\n",
       "</style>\n",
       "<table border=\"1\" class=\"dataframe\">\n",
       "  <thead>\n",
       "    <tr style=\"text-align: right;\">\n",
       "      <th></th>\n",
       "      <th>price</th>\n",
       "      <th>rating</th>\n",
       "      <th>model</th>\n",
       "      <th>RAM</th>\n",
       "      <th>Storage</th>\n",
       "      <th>Operating System</th>\n",
       "      <th>extra</th>\n",
       "    </tr>\n",
       "  </thead>\n",
       "  <tbody>\n",
       "    <tr>\n",
       "      <th>0</th>\n",
       "      <td>40990</td>\n",
       "      <td>NaN</td>\n",
       "      <td>HP Chromebook (2023) Intel Core i5 11th Gen</td>\n",
       "      <td>8 GB</td>\n",
       "      <td>256 GB SSD</td>\n",
       "      <td>Chrome OS</td>\n",
       "      <td>14c-cc0010TU Chromebook</td>\n",
       "    </tr>\n",
       "    <tr>\n",
       "      <th>1</th>\n",
       "      <td>65990</td>\n",
       "      <td>4.3</td>\n",
       "      <td>HP Pavilion Intel Core i5 12th Gen</td>\n",
       "      <td>16 GB</td>\n",
       "      <td>512 GB SSD</td>\n",
       "      <td>Windows 11 Home</td>\n",
       "      <td>14-dv2014TU Thin and Light Lap...</td>\n",
       "    </tr>\n",
       "    <tr>\n",
       "      <th>2</th>\n",
       "      <td>29990</td>\n",
       "      <td>4.1</td>\n",
       "      <td>HP 15s (2023) Ryzen 3 Dual Core 3250U</td>\n",
       "      <td>8 GB</td>\n",
       "      <td>512 GB SSD</td>\n",
       "      <td>Windows 11 Home</td>\n",
       "      <td>15s- eq1580AU Thin and Light...</td>\n",
       "    </tr>\n",
       "    <tr>\n",
       "      <th>3</th>\n",
       "      <td>52990</td>\n",
       "      <td>4.3</td>\n",
       "      <td>ASUS TUF Gaming A15 Ryzen 5 Hexa Core AMD R5-4...</td>\n",
       "      <td>8 GB</td>\n",
       "      <td>1 TB SSD</td>\n",
       "      <td>Windows 11 Home</td>\n",
       "      <td>4 GB Graphics/NVID...</td>\n",
       "    </tr>\n",
       "    <tr>\n",
       "      <th>4</th>\n",
       "      <td>31999</td>\n",
       "      <td>NaN</td>\n",
       "      <td>realme Book (Slim) Core i3 11th Gen</td>\n",
       "      <td>8 GB</td>\n",
       "      <td>256 GB SSD</td>\n",
       "      <td>Windows 10 Home</td>\n",
       "      <td>RMNB1001 Thin and Light Laptop</td>\n",
       "    </tr>\n",
       "  </tbody>\n",
       "</table>\n",
       "</div>"
      ],
      "text/plain": [
       "   price  rating                                              model    RAM  \\\n",
       "0  40990     NaN        HP Chromebook (2023) Intel Core i5 11th Gen   8 GB   \n",
       "1  65990     4.3                 HP Pavilion Intel Core i5 12th Gen  16 GB   \n",
       "2  29990     4.1              HP 15s (2023) Ryzen 3 Dual Core 3250U   8 GB   \n",
       "3  52990     4.3  ASUS TUF Gaming A15 Ryzen 5 Hexa Core AMD R5-4...   8 GB   \n",
       "4  31999     NaN                realme Book (Slim) Core i3 11th Gen   8 GB   \n",
       "\n",
       "      Storage Operating System                               extra  \n",
       "0  256 GB SSD        Chrome OS             14c-cc0010TU Chromebook  \n",
       "1  512 GB SSD  Windows 11 Home   14-dv2014TU Thin and Light Lap...  \n",
       "2  512 GB SSD  Windows 11 Home     15s- eq1580AU Thin and Light...  \n",
       "3    1 TB SSD  Windows 11 Home               4 GB Graphics/NVID...  \n",
       "4  256 GB SSD  Windows 10 Home      RMNB1001 Thin and Light Laptop  "
      ]
     },
     "execution_count": 97,
     "metadata": {},
     "output_type": "execute_result"
    }
   ],
   "source": [
    "\n",
    "laptop_df['Operating System'],laptop_df['extra']=laptop_df['OS'].str.split('/',1).str\n",
    "del laptop_df['OS']\n",
    "laptop_df.head()"
   ]
  },
  {
   "cell_type": "code",
   "execution_count": 106,
   "id": "4afa62f8",
   "metadata": {
    "scrolled": false
   },
   "outputs": [
    {
     "data": {
      "text/plain": [
       "price                0\n",
       "rating              70\n",
       "model                0\n",
       "RAM                  0\n",
       "Storage              0\n",
       "Operating System     0\n",
       "extra                7\n",
       "dtype: int64"
      ]
     },
     "execution_count": 106,
     "metadata": {},
     "output_type": "execute_result"
    }
   ],
   "source": [
    "laptop_df.isnull().sum()"
   ]
  },
  {
   "cell_type": "code",
   "execution_count": 111,
   "id": "22195427",
   "metadata": {},
   "outputs": [],
   "source": [
    "laptop_df.to_csv('laptops.csv', index = False, encoding = 'utf-8')"
   ]
  },
  {
   "cell_type": "code",
   "execution_count": 99,
   "id": "a29c9211",
   "metadata": {},
   "outputs": [
    {
     "data": {
      "text/plain": [
       "128"
      ]
     },
     "execution_count": 99,
     "metadata": {},
     "output_type": "execute_result"
    }
   ],
   "source": [
    "laptop_df['model'].nunique()"
   ]
  },
  {
   "cell_type": "code",
   "execution_count": 100,
   "id": "bd05094a",
   "metadata": {},
   "outputs": [
    {
     "data": {
      "text/plain": [
       "ASUS Chromebook Touch Intel Celeron Dual Core                                        10\n",
       "ASUS Vivobook 15 Core i3 11th Gen                                                    10\n",
       "HP 15s (2023) Athlon Dual Core 3050U                                                  9\n",
       "Primebook 4G Android Based MediaTek MT8788                                            9\n",
       "ASUS Vivobook 15 Core i5 11th Gen                                                     7\n",
       "                                                                                     ..\n",
       "ASUS Vivobook Go 15 (2023) Ryzen 3 Quad Core 7320U                                    1\n",
       "Lenovo IdeaPad Ryzen 5 Hexa Core 5500U                                                1\n",
       "HP Pavilion (2023) Eyesafe Ryzen 5 Hexa Core 5625U                                    1\n",
       "Lenovo Ideapad Gaming 3 AMD Ryzen 5 Hexa Core 5600H                                   1\n",
       "ASUS ROG Strix SCAR 16 (2023) with 90WHr Battery Intel HX-Series Core i9 13th Gen     1\n",
       "Name: model, Length: 128, dtype: int64"
      ]
     },
     "execution_count": 100,
     "metadata": {},
     "output_type": "execute_result"
    }
   ],
   "source": [
    "laptop_df['model'].value_counts()"
   ]
  },
  {
   "cell_type": "code",
   "execution_count": 101,
   "id": "efb6a78c",
   "metadata": {},
   "outputs": [
    {
     "data": {
      "text/html": [
       "<div>\n",
       "<style scoped>\n",
       "    .dataframe tbody tr th:only-of-type {\n",
       "        vertical-align: middle;\n",
       "    }\n",
       "\n",
       "    .dataframe tbody tr th {\n",
       "        vertical-align: top;\n",
       "    }\n",
       "\n",
       "    .dataframe thead th {\n",
       "        text-align: right;\n",
       "    }\n",
       "</style>\n",
       "<table border=\"1\" class=\"dataframe\">\n",
       "  <thead>\n",
       "    <tr style=\"text-align: right;\">\n",
       "      <th></th>\n",
       "      <th>price</th>\n",
       "      <th>rating</th>\n",
       "    </tr>\n",
       "  </thead>\n",
       "  <tbody>\n",
       "    <tr>\n",
       "      <th>count</th>\n",
       "      <td>240.000000</td>\n",
       "      <td>170.000000</td>\n",
       "    </tr>\n",
       "    <tr>\n",
       "      <th>mean</th>\n",
       "      <td>59250.329167</td>\n",
       "      <td>4.207647</td>\n",
       "    </tr>\n",
       "    <tr>\n",
       "      <th>std</th>\n",
       "      <td>61614.695380</td>\n",
       "      <td>0.264240</td>\n",
       "    </tr>\n",
       "    <tr>\n",
       "      <th>min</th>\n",
       "      <td>12990.000000</td>\n",
       "      <td>3.000000</td>\n",
       "    </tr>\n",
       "    <tr>\n",
       "      <th>25%</th>\n",
       "      <td>34990.000000</td>\n",
       "      <td>4.100000</td>\n",
       "    </tr>\n",
       "    <tr>\n",
       "      <th>50%</th>\n",
       "      <td>45990.000000</td>\n",
       "      <td>4.200000</td>\n",
       "    </tr>\n",
       "    <tr>\n",
       "      <th>75%</th>\n",
       "      <td>63990.000000</td>\n",
       "      <td>4.300000</td>\n",
       "    </tr>\n",
       "    <tr>\n",
       "      <th>max</th>\n",
       "      <td>599990.000000</td>\n",
       "      <td>5.000000</td>\n",
       "    </tr>\n",
       "  </tbody>\n",
       "</table>\n",
       "</div>"
      ],
      "text/plain": [
       "               price      rating\n",
       "count     240.000000  170.000000\n",
       "mean    59250.329167    4.207647\n",
       "std     61614.695380    0.264240\n",
       "min     12990.000000    3.000000\n",
       "25%     34990.000000    4.100000\n",
       "50%     45990.000000    4.200000\n",
       "75%     63990.000000    4.300000\n",
       "max    599990.000000    5.000000"
      ]
     },
     "execution_count": 101,
     "metadata": {},
     "output_type": "execute_result"
    }
   ],
   "source": [
    "laptop_df.describe()"
   ]
  },
  {
   "cell_type": "code",
   "execution_count": 102,
   "id": "3b04ffe0",
   "metadata": {},
   "outputs": [
    {
     "data": {
      "text/plain": [
       "price                 int64\n",
       "rating              float64\n",
       "model                object\n",
       "RAM                  object\n",
       "Storage              object\n",
       "Operating System     object\n",
       "extra                object\n",
       "dtype: object"
      ]
     },
     "execution_count": 102,
     "metadata": {},
     "output_type": "execute_result"
    }
   ],
   "source": [
    "laptop_df.dtypes"
   ]
  },
  {
   "cell_type": "code",
   "execution_count": 103,
   "id": "0fffa262",
   "metadata": {},
   "outputs": [
    {
     "data": {
      "text/plain": [
       "RangeIndex(start=0, stop=240, step=1)"
      ]
     },
     "execution_count": 103,
     "metadata": {},
     "output_type": "execute_result"
    }
   ],
   "source": [
    "#Index of the columns\n",
    "laptop_df.index"
   ]
  },
  {
   "cell_type": "code",
   "execution_count": 104,
   "id": "f0a1d2a3",
   "metadata": {},
   "outputs": [
    {
     "data": {
      "text/plain": [
       "Index(['price', 'rating', 'model', 'RAM', 'Storage', 'Operating System',\n",
       "       'extra'],\n",
       "      dtype='object')"
      ]
     },
     "execution_count": 104,
     "metadata": {},
     "output_type": "execute_result"
    }
   ],
   "source": [
    "laptop_df.columns"
   ]
  },
  {
   "cell_type": "code",
   "execution_count": 107,
   "id": "da7d4834",
   "metadata": {},
   "outputs": [
    {
     "data": {
      "text/html": [
       "<div>\n",
       "<style scoped>\n",
       "    .dataframe tbody tr th:only-of-type {\n",
       "        vertical-align: middle;\n",
       "    }\n",
       "\n",
       "    .dataframe tbody tr th {\n",
       "        vertical-align: top;\n",
       "    }\n",
       "\n",
       "    .dataframe thead th {\n",
       "        text-align: right;\n",
       "    }\n",
       "</style>\n",
       "<table border=\"1\" class=\"dataframe\">\n",
       "  <thead>\n",
       "    <tr style=\"text-align: right;\">\n",
       "      <th></th>\n",
       "      <th>price</th>\n",
       "      <th>rating</th>\n",
       "      <th>model</th>\n",
       "      <th>RAM</th>\n",
       "      <th>Storage</th>\n",
       "      <th>Operating System</th>\n",
       "      <th>extra</th>\n",
       "    </tr>\n",
       "  </thead>\n",
       "  <tbody>\n",
       "    <tr>\n",
       "      <th>12</th>\n",
       "      <td>51990</td>\n",
       "      <td>4.5</td>\n",
       "      <td>MSI Bravo 15 Ryzen 7 Octa Core 5800H</td>\n",
       "      <td>8 GB</td>\n",
       "      <td>512 GB SSD</td>\n",
       "      <td>Windows 11 Home</td>\n",
       "      <td>4 GB Graphics/AMD Radeon RX650...</td>\n",
       "    </tr>\n",
       "    <tr>\n",
       "      <th>36</th>\n",
       "      <td>51990</td>\n",
       "      <td>4.5</td>\n",
       "      <td>MSI Bravo 15 Ryzen 7 Octa Core 5800H</td>\n",
       "      <td>8 GB</td>\n",
       "      <td>512 GB SSD</td>\n",
       "      <td>Windows 11 Home</td>\n",
       "      <td>4 GB Graphics/AMD Radeon RX650...</td>\n",
       "    </tr>\n",
       "    <tr>\n",
       "      <th>142</th>\n",
       "      <td>55990</td>\n",
       "      <td>4.5</td>\n",
       "      <td>ASUS Vivobook 16 (2023) Ryzen 5 Hexa Core 7530U</td>\n",
       "      <td>16 GB</td>\n",
       "      <td>512 GB SSD</td>\n",
       "      <td>Windows 11 Home</td>\n",
       "      <td>M1605YA-MB541WS L...</td>\n",
       "    </tr>\n",
       "  </tbody>\n",
       "</table>\n",
       "</div>"
      ],
      "text/plain": [
       "     price  rating                                            model    RAM  \\\n",
       "12   51990     4.5             MSI Bravo 15 Ryzen 7 Octa Core 5800H   8 GB   \n",
       "36   51990     4.5             MSI Bravo 15 Ryzen 7 Octa Core 5800H   8 GB   \n",
       "142  55990     4.5  ASUS Vivobook 16 (2023) Ryzen 5 Hexa Core 7530U  16 GB   \n",
       "\n",
       "        Storage Operating System                              extra  \n",
       "12   512 GB SSD  Windows 11 Home  4 GB Graphics/AMD Radeon RX650...  \n",
       "36   512 GB SSD  Windows 11 Home  4 GB Graphics/AMD Radeon RX650...  \n",
       "142  512 GB SSD  Windows 11 Home               M1605YA-MB541WS L...  "
      ]
     },
     "execution_count": 107,
     "metadata": {},
     "output_type": "execute_result"
    }
   ],
   "source": [
    "#Laptop with rating >= 4.5 and within the range of 40,000 and 60,000\n",
    "laptop_df[(laptop_df['price']>=40000) & (laptop_df['price']<=60000) & (laptop_df['rating']>=4.5)]"
   ]
  },
  {
   "cell_type": "code",
   "execution_count": 110,
   "id": "a4687ec1",
   "metadata": {
    "scrolled": true
   },
   "outputs": [
    {
     "data": {
      "text/html": [
       "<div>\n",
       "<style scoped>\n",
       "    .dataframe tbody tr th:only-of-type {\n",
       "        vertical-align: middle;\n",
       "    }\n",
       "\n",
       "    .dataframe tbody tr th {\n",
       "        vertical-align: top;\n",
       "    }\n",
       "\n",
       "    .dataframe thead th {\n",
       "        text-align: right;\n",
       "    }\n",
       "</style>\n",
       "<table border=\"1\" class=\"dataframe\">\n",
       "  <thead>\n",
       "    <tr style=\"text-align: right;\">\n",
       "      <th></th>\n",
       "      <th>price</th>\n",
       "      <th>rating</th>\n",
       "      <th>model</th>\n",
       "      <th>RAM</th>\n",
       "      <th>Storage</th>\n",
       "      <th>Operating System</th>\n",
       "      <th>extra</th>\n",
       "    </tr>\n",
       "  </thead>\n",
       "  <tbody>\n",
       "    <tr>\n",
       "      <th>44</th>\n",
       "      <td>13990</td>\n",
       "      <td>4.0</td>\n",
       "      <td>Primebook 4G Android Based MediaTek MT8788</td>\n",
       "      <td>4 GB</td>\n",
       "      <td>128 GB EMMC Storage</td>\n",
       "      <td>Prime OS</td>\n",
       "      <td>4G Thin and Light Lap...</td>\n",
       "    </tr>\n",
       "    <tr>\n",
       "      <th>104</th>\n",
       "      <td>13990</td>\n",
       "      <td>4.0</td>\n",
       "      <td>Primebook 4G Android Based MediaTek MT8788</td>\n",
       "      <td>4 GB</td>\n",
       "      <td>128 GB EMMC Storage</td>\n",
       "      <td>Prime OS</td>\n",
       "      <td>4G Thin and Light Lap...</td>\n",
       "    </tr>\n",
       "    <tr>\n",
       "      <th>121</th>\n",
       "      <td>13990</td>\n",
       "      <td>4.0</td>\n",
       "      <td>Primebook 4G Android Based MediaTek MT8788</td>\n",
       "      <td>4 GB</td>\n",
       "      <td>128 GB EMMC Storage</td>\n",
       "      <td>Prime OS</td>\n",
       "      <td>4G Thin and Light Lap...</td>\n",
       "    </tr>\n",
       "    <tr>\n",
       "      <th>134</th>\n",
       "      <td>12990</td>\n",
       "      <td>4.1</td>\n",
       "      <td>Primebook 4G Android Based MediaTek MT8788</td>\n",
       "      <td>4 GB</td>\n",
       "      <td>64 GB EMMC Storage</td>\n",
       "      <td>Prime OS</td>\n",
       "      <td>4G Thin and Light Lapt...</td>\n",
       "    </tr>\n",
       "    <tr>\n",
       "      <th>160</th>\n",
       "      <td>13990</td>\n",
       "      <td>4.0</td>\n",
       "      <td>Primebook 4G Android Based MediaTek MT8788</td>\n",
       "      <td>4 GB</td>\n",
       "      <td>128 GB EMMC Storage</td>\n",
       "      <td>Prime OS</td>\n",
       "      <td>4G Thin and Light Lap...</td>\n",
       "    </tr>\n",
       "    <tr>\n",
       "      <th>163</th>\n",
       "      <td>14990</td>\n",
       "      <td>4.3</td>\n",
       "      <td>ASUS EeeBook 12 Celeron Dual Core</td>\n",
       "      <td>4 GB</td>\n",
       "      <td>64 GB EMMC Storage</td>\n",
       "      <td>Windows 11 Home</td>\n",
       "      <td>E210MA-GJ011W Thin and L...</td>\n",
       "    </tr>\n",
       "    <tr>\n",
       "      <th>174</th>\n",
       "      <td>13990</td>\n",
       "      <td>4.0</td>\n",
       "      <td>Primebook 4G Android Based MediaTek MT8788</td>\n",
       "      <td>4 GB</td>\n",
       "      <td>128 GB EMMC Storage</td>\n",
       "      <td>Prime OS</td>\n",
       "      <td>4G Thin and Light Lap...</td>\n",
       "    </tr>\n",
       "    <tr>\n",
       "      <th>184</th>\n",
       "      <td>12990</td>\n",
       "      <td>4.1</td>\n",
       "      <td>Primebook 4G Android Based MediaTek MT8788</td>\n",
       "      <td>4 GB</td>\n",
       "      <td>64 GB EMMC Storage</td>\n",
       "      <td>Prime OS</td>\n",
       "      <td>4G Thin and Light Lapt...</td>\n",
       "    </tr>\n",
       "    <tr>\n",
       "      <th>205</th>\n",
       "      <td>13990</td>\n",
       "      <td>4.0</td>\n",
       "      <td>Primebook 4G Android Based MediaTek MT8788</td>\n",
       "      <td>4 GB</td>\n",
       "      <td>128 GB EMMC Storage</td>\n",
       "      <td>Prime OS</td>\n",
       "      <td>4G Thin and Light Lap...</td>\n",
       "    </tr>\n",
       "    <tr>\n",
       "      <th>215</th>\n",
       "      <td>12990</td>\n",
       "      <td>4.1</td>\n",
       "      <td>Primebook 4G Android Based MediaTek MT8788</td>\n",
       "      <td>4 GB</td>\n",
       "      <td>64 GB EMMC Storage</td>\n",
       "      <td>Prime OS</td>\n",
       "      <td>4G Thin and Light Lapt...</td>\n",
       "    </tr>\n",
       "  </tbody>\n",
       "</table>\n",
       "</div>"
      ],
      "text/plain": [
       "     price  rating                                       model   RAM  \\\n",
       "44   13990     4.0  Primebook 4G Android Based MediaTek MT8788  4 GB   \n",
       "104  13990     4.0  Primebook 4G Android Based MediaTek MT8788  4 GB   \n",
       "121  13990     4.0  Primebook 4G Android Based MediaTek MT8788  4 GB   \n",
       "134  12990     4.1  Primebook 4G Android Based MediaTek MT8788  4 GB   \n",
       "160  13990     4.0  Primebook 4G Android Based MediaTek MT8788  4 GB   \n",
       "163  14990     4.3           ASUS EeeBook 12 Celeron Dual Core  4 GB   \n",
       "174  13990     4.0  Primebook 4G Android Based MediaTek MT8788  4 GB   \n",
       "184  12990     4.1  Primebook 4G Android Based MediaTek MT8788  4 GB   \n",
       "205  13990     4.0  Primebook 4G Android Based MediaTek MT8788  4 GB   \n",
       "215  12990     4.1  Primebook 4G Android Based MediaTek MT8788  4 GB   \n",
       "\n",
       "                 Storage Operating System                         extra  \n",
       "44   128 GB EMMC Storage         Prime OS      4G Thin and Light Lap...  \n",
       "104  128 GB EMMC Storage         Prime OS      4G Thin and Light Lap...  \n",
       "121  128 GB EMMC Storage         Prime OS      4G Thin and Light Lap...  \n",
       "134   64 GB EMMC Storage         Prime OS     4G Thin and Light Lapt...  \n",
       "160  128 GB EMMC Storage         Prime OS      4G Thin and Light Lap...  \n",
       "163   64 GB EMMC Storage  Windows 11 Home   E210MA-GJ011W Thin and L...  \n",
       "174  128 GB EMMC Storage         Prime OS      4G Thin and Light Lap...  \n",
       "184   64 GB EMMC Storage         Prime OS     4G Thin and Light Lapt...  \n",
       "205  128 GB EMMC Storage         Prime OS      4G Thin and Light Lap...  \n",
       "215   64 GB EMMC Storage         Prime OS     4G Thin and Light Lapt...  "
      ]
     },
     "execution_count": 110,
     "metadata": {},
     "output_type": "execute_result"
    }
   ],
   "source": [
    "#Laptop with rating >= 3 and price <= 20000\n",
    "laptop_df[(laptop_df['price']<=20000) & (laptop_df['rating']>=4)]"
   ]
  },
  {
   "cell_type": "markdown",
   "id": "ae5ce2b6",
   "metadata": {},
   "source": [
    "### Barplot for Rating vs Price(Avg) of Laptop"
   ]
  },
  {
   "cell_type": "code",
   "execution_count": 114,
   "id": "0006e250",
   "metadata": {
    "scrolled": true
   },
   "outputs": [
    {
     "data": {
      "text/plain": [
       "Text(0.5, 1.0, 'Rating vs Price')"
      ]
     },
     "execution_count": 114,
     "metadata": {},
     "output_type": "execute_result"
    },
    {
     "data": {
      "image/png": "[encoded data removed]",
      "text/plain": [
       "<Figure size 1000x600 with 1 Axes>"
      ]
     },
     "metadata": {},
     "output_type": "display_data"
    }
   ],
   "source": [
    "#Plotting Rating and price for laptops\n",
    "plt.figure(figsize=(10,6))\n",
    "sns.barplot(x=laptop_df['rating'],y=laptop_df['price'])\n",
    "plt.title(\"Rating vs Price\")"
   ]
  },
  {
   "cell_type": "markdown",
   "id": "bde79feb",
   "metadata": {},
   "source": [
    "### Findings-\n",
    "From the above graph we can see that price for the highest rating (5) laptop is higher than other.\n",
    "People who wants the laptops with good rating and comparatively lover price can go with 4.9 rating laptops.\n",
    "Cheapest laptops are with rating 3.8"
   ]
  },
  {
   "cell_type": "markdown",
   "id": "c8774c84",
   "metadata": {},
   "source": [
    "### Box plot for price"
   ]
  },
  {
   "cell_type": "code",
   "execution_count": 117,
   "id": "f511252b",
   "metadata": {},
   "outputs": [
    {
     "data": {
      "text/plain": [
       "Text(0.5, 1.0, 'Box Plot for price')"
      ]
     },
     "execution_count": 117,
     "metadata": {},
     "output_type": "execute_result"
    },
    {
     "data": {
      "image/png": "[encoded data removed]",
      "text/plain": [
       "<Figure size 640x480 with 1 Axes>"
      ]
     },
     "metadata": {},
     "output_type": "display_data"
    }
   ],
   "source": [
    "#simple box plot for price\n",
    "sns.boxplot(x=laptop_df['price'])\n",
    "plt.title(\"Box Plot for price\")"
   ]
  },
  {
   "cell_type": "markdown",
   "id": "410469f1",
   "metadata": {},
   "source": [
    "### Findings-\n",
    "The price column has many many outliers on with upper range. The graph is rightly skewed. \n"
   ]
  },
  {
   "cell_type": "code",
   "execution_count": null,
   "id": "7c4d542b",
   "metadata": {},
   "outputs": [],
   "source": []
  }
 ],
 "metadata": {
  "kernelspec": {
   "display_name": "Python 3 (ipykernel)",
   "language": "python",
   "name": "python3"
  },
  "language_info": {
   "codemirror_mode": {
    "name": "ipython",
    "version": 3
   },
   "file_extension": ".py",
   "mimetype": "text/x-python",
   "name": "python",
   "nbconvert_exporter": "python",
   "pygments_lexer": "ipython3",
   "version": "3.11.3"
  }
 },
 "nbformat": 4,
 "nbformat_minor": 5
}
